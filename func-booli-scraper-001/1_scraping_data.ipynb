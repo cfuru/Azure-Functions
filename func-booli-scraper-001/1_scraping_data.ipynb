{
 "cells": [
  {
   "cell_type": "markdown",
   "metadata": {},
   "source": [
    "# Imort Libraries"
   ]
  },
  {
   "cell_type": "code",
   "execution_count": 26,
   "metadata": {},
   "outputs": [],
   "source": [
    "import datetime\n",
    "import logging\n",
    "import time\n",
    "import azure.functions as func\n",
    "import pandas as pd\n",
    "import numpy as np\n",
    "import matplotlib.pyplot as plt\n",
    "import matplotlib.dates as mdates\n",
    "\n",
    "from geopy.geocoders import Nominatim\n",
    "from geopy.extra.rate_limiter import RateLimiter\n",
    "from datetime import date, timedelta\n",
    "from shared_code import utils\n",
    "\n",
    "pd.set_option('display.max_rows', None)\n",
    "pd.set_option('display.max_columns', None)"
   ]
  },
  {
   "cell_type": "markdown",
   "metadata": {},
   "source": [
    "# Initialize Storage Account"
   ]
  },
  {
   "cell_type": "code",
   "execution_count": 2,
   "metadata": {},
   "outputs": [],
   "source": [
    "azure_utils = utils.AzureUtils()\n",
    "secret_client = azure_utils.initialize_key_vault()\n",
    "\n",
    "sa_secret = azure_utils.get_key_vault_secret(secret_client, 'sa-booli')\n",
    "sa_name = azure_utils.get_key_vault_secret(secret_client, 'sa-name')\n",
    "storage_account = azure_utils.initialize_storage_account_ad(sa_secret.value, sa_name.value)"
   ]
  },
  {
   "cell_type": "markdown",
   "metadata": {},
   "source": [
    "# Scraping & Storing Data"
   ]
  },
  {
   "cell_type": "code",
   "execution_count": 11,
   "metadata": {},
   "outputs": [
    {
     "name": "stdout",
     "output_type": "stream",
     "text": [
      "Total number of pages: 1\n",
      "Scraping page: 1 / 1\n",
      "Total number of objects stored 1 / 1\n",
      "\n",
      "--------------------------------------------\n",
      "\n"
     ]
    }
   ],
   "source": [
    "object_type = \"Lägenhet\"\n",
    "minSoldDate = \"2022-01-01\"\n",
    "maxSoldDate = \"2022-01-02\"\n",
    "rooms = \"\"\n",
    "hasBalcony = \"\"\n",
    "hasFireplace = \"\"\n",
    "hasElevator = \"\"\n",
    "area_id = 143\n",
    "\n",
    "booli_utils = utils.Booli()\n",
    "\n",
    "data = booli_utils.run_query_sold(object_type, minSoldDate, maxSoldDate, rooms, hasBalcony, hasFireplace, hasElevator, area_id, 1)\n",
    "total_number_of_pages = data[\"data\"][\"search\"][\"pages\"]\n",
    "total_number_of_objects = data[\"data\"][\"search\"][\"totalCount\"]\n",
    "print(f\"Total number of pages: {total_number_of_pages}\")\n",
    "\n",
    "res = []\n",
    "for page in range(1, total_number_of_pages + 1):\n",
    "    print(f'Scraping page: {page} / {total_number_of_pages}')\n",
    "    data = booli_utils.run_query_sold(object_type, minSoldDate, maxSoldDate, rooms, hasBalcony, hasFireplace, hasElevator, area_id, page)\n",
    "    \n",
    "    for object in data[\"data\"][\"search\"][\"result\"]:\n",
    "        res.append(object)\n",
    "    \n",
    "    print(f\"Total number of objects stored {len(res)} / {total_number_of_objects}\")\n",
    "    print(\"\")\n",
    "    print(\"--------------------------------------------\")\n",
    "    print(\"\")\n",
    "    \n",
    "df = pd.json_normalize(res)\n",
    "\n",
    "azure_utils.upload_csv_to_datalake(df, \"raw/sold/all\", f\"Sold_{object_type}_{rooms}_{area_id}_{minSoldDate}_{maxSoldDate}.csv\")"
   ]
  },
  {
   "cell_type": "code",
   "execution_count": 204,
   "metadata": {},
   "outputs": [],
   "source": [
    "# !pip install -q pyscbwrapper\n",
    "from pyscbwrapper import SCB"
   ]
  },
  {
   "cell_type": "code",
   "execution_count": 211,
   "metadata": {},
   "outputs": [],
   "source": [
    "scb = SCB(\"en\")"
   ]
  },
  {
   "cell_type": "code",
   "execution_count": 212,
   "metadata": {},
   "outputs": [
    {
     "data": {
      "text/plain": [
       "[{'id': 'FM5001A', 'type': 'l', 'text': 'Financial Market Statistics'},\n",
       " {'id': 'FM5001B',\n",
       "  'type': 'l',\n",
       "  'text': 'Claims and liabilities outside Sweden'},\n",
       " {'id': 'FM5001C', 'type': 'l', 'text': 'Deposit and lending rates'},\n",
       " {'id': 'FM5001S', 'type': 'l', 'text': 'Economic indicators'},\n",
       " {'id': 'FM5001X', 'type': 'l', 'text': 'Key figures'}]"
      ]
     },
     "execution_count": 212,
     "metadata": {},
     "output_type": "execute_result"
    }
   ],
   "source": [
    "scb.info()\n",
    "scb.go_down(\"FM\", \"FM5001\")\n",
    "scb.info()"
   ]
  },
  {
   "cell_type": "code",
   "execution_count": 193,
   "metadata": {},
   "outputs": [],
   "source": [
    "scb.go_down(\"PR\", \"PR0101\", \"PR0101G\", \"KPIF\")\n",
    "# scb.go_up()\n",
    "# scb.info()\n",
    "# scb.get_variables()\n",
    "\n",
    "observations = ['CPIF, Index, 1987=100', 'CPIF, monthly changes, 1987=100', 'CPIF, annual changes, 1987=100']\n",
    "scb.set_query(observations = observations)\n",
    "#print(scb.get_query())\n",
    "data = scb.get_data()[\"data\"]"
   ]
  },
  {
   "cell_type": "code",
   "execution_count": 200,
   "metadata": {},
   "outputs": [
    {
     "data": {
      "text/html": [
       "<div>\n",
       "<style scoped>\n",
       "    .dataframe tbody tr th:only-of-type {\n",
       "        vertical-align: middle;\n",
       "    }\n",
       "\n",
       "    .dataframe tbody tr th {\n",
       "        vertical-align: top;\n",
       "    }\n",
       "\n",
       "    .dataframe thead th {\n",
       "        text-align: right;\n",
       "    }\n",
       "</style>\n",
       "<table border=\"1\" class=\"dataframe\">\n",
       "  <thead>\n",
       "    <tr style=\"text-align: right;\">\n",
       "      <th></th>\n",
       "      <th>CPIF, Index, 1987=100</th>\n",
       "      <th>CPIF, monthly changes, 1987=100</th>\n",
       "      <th>CPIF, annual changes, 1987=100</th>\n",
       "    </tr>\n",
       "    <tr>\n",
       "      <th>key</th>\n",
       "      <th></th>\n",
       "      <th></th>\n",
       "      <th></th>\n",
       "    </tr>\n",
       "  </thead>\n",
       "  <tbody>\n",
       "    <tr>\n",
       "      <th>1987-01-01</th>\n",
       "      <td>98.21</td>\n",
       "      <td>NaN</td>\n",
       "      <td>NaN</td>\n",
       "    </tr>\n",
       "    <tr>\n",
       "      <th>1987-02-01</th>\n",
       "      <td>98.50</td>\n",
       "      <td>NaN</td>\n",
       "      <td>NaN</td>\n",
       "    </tr>\n",
       "    <tr>\n",
       "      <th>1987-03-01</th>\n",
       "      <td>98.70</td>\n",
       "      <td>NaN</td>\n",
       "      <td>NaN</td>\n",
       "    </tr>\n",
       "    <tr>\n",
       "      <th>1987-04-01</th>\n",
       "      <td>98.95</td>\n",
       "      <td>NaN</td>\n",
       "      <td>NaN</td>\n",
       "    </tr>\n",
       "    <tr>\n",
       "      <th>1987-05-01</th>\n",
       "      <td>99.01</td>\n",
       "      <td>NaN</td>\n",
       "      <td>NaN</td>\n",
       "    </tr>\n",
       "  </tbody>\n",
       "</table>\n",
       "</div>"
      ],
      "text/plain": [
       "            CPIF, Index, 1987=100  CPIF, monthly changes, 1987=100  \\\n",
       "key                                                                  \n",
       "1987-01-01                  98.21                              NaN   \n",
       "1987-02-01                  98.50                              NaN   \n",
       "1987-03-01                  98.70                              NaN   \n",
       "1987-04-01                  98.95                              NaN   \n",
       "1987-05-01                  99.01                              NaN   \n",
       "\n",
       "            CPIF, annual changes, 1987=100  \n",
       "key                                         \n",
       "1987-01-01                             NaN  \n",
       "1987-02-01                             NaN  \n",
       "1987-03-01                             NaN  \n",
       "1987-04-01                             NaN  \n",
       "1987-05-01                             NaN  "
      ]
     },
     "execution_count": 200,
     "metadata": {},
     "output_type": "execute_result"
    }
   ],
   "source": [
    "df = pd.DataFrame(data)\n",
    "\n",
    "df_keys = pd.DataFrame(df[\"key\"].to_list(), columns = [\"key\"]).replace(\"M\", \"\")#df[\"key\"].apply(pd.Series)\n",
    "df_values = pd.DataFrame(df[\"values\"].to_list(), columns = observations).replace(\"..\", \"\").apply(pd.to_numeric)#df[\"values\"].apply(pd.Series)\n",
    "df = pd.concat([df_keys, df_values], axis = 1).set_index(\"key\")\n",
    "df.index = df.index.str.replace(\"M\", \"\")\n",
    "df.index = pd.to_datetime(df.index, format = \"%Y%m\")\n",
    "df.head()"
   ]
  },
  {
   "cell_type": "code",
   "execution_count": 201,
   "metadata": {},
   "outputs": [
    {
     "data": {
      "text/plain": [
       "<AxesSubplot: xlabel='key'>"
      ]
     },
     "execution_count": 201,
     "metadata": {},
     "output_type": "execute_result"
    },
    {
     "data": {
      "image/png": "[encoded data removed]",
      "text/plain": [
       "<Figure size 640x480 with 1 Axes>"
      ]
     },
     "metadata": {},
     "output_type": "display_data"
    }
   ],
   "source": [
    "df.iloc[:,2].plot()"
   ]
  },
  {
   "cell_type": "code",
   "execution_count": 202,
   "metadata": {},
   "outputs": [],
   "source": [
    "df.to_pickle(\"CPIF.pkl\")"
   ]
  },
  {
   "cell_type": "code",
   "execution_count": 203,
   "metadata": {},
   "outputs": [
    {
     "name": "stdout",
     "output_type": "stream",
     "text": [
      "<class 'pandas.core.frame.DataFrame'>\n",
      "DatetimeIndex: 430 entries, 1987-01-01 to 2022-10-01\n",
      "Data columns (total 3 columns):\n",
      " #   Column                           Non-Null Count  Dtype  \n",
      "---  ------                           --------------  -----  \n",
      " 0   CPIF, Index, 1987=100            430 non-null    float64\n",
      " 1   CPIF, monthly changes, 1987=100  418 non-null    float64\n",
      " 2   CPIF, annual changes, 1987=100   418 non-null    float64\n",
      "dtypes: float64(3)\n",
      "memory usage: 13.4 KB\n"
     ]
    }
   ],
   "source": [
    "df.info()"
   ]
  },
  {
   "cell_type": "code",
   "execution_count": null,
   "metadata": {},
   "outputs": [],
   "source": []
  }
 ],
 "metadata": {
  "kernelspec": {
   "display_name": "Python 3.10.4 ('.venv': venv)",
   "language": "python",
   "name": "python3"
  },
  "language_info": {
   "codemirror_mode": {
    "name": "ipython",
    "version": 3
   },
   "file_extension": ".py",
   "mimetype": "text/x-python",
   "name": "python",
   "nbconvert_exporter": "python",
   "pygments_lexer": "ipython3",
   "version": "3.10.4"
  },
  "orig_nbformat": 4,
  "vscode": {
   "interpreter": {
    "hash": "1feb5dbee2d581560a32fcc85b4893d1615e024f00ed50a39fb110e2dc550259"
   }
  }
 },
 "nbformat": 4,
 "nbformat_minor": 2
}
