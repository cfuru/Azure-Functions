{
 "cells": [
  {
   "cell_type": "markdown",
   "metadata": {},
   "source": [
    "# Imort Libraries"
   ]
  },
  {
   "cell_type": "code",
   "execution_count": null,
   "metadata": {},
   "outputs": [],
   "source": [
    "import datetime\n",
    "import logging\n",
    "import time\n",
    "import azure.functions as func\n",
    "import pandas as pd\n",
    "import numpy as np\n",
    "import matplotlib.pyplot as plt\n",
    "import matplotlib.dates as mdates\n",
    "\n",
    "from geopy.geocoders import Nominatim\n",
    "from geopy.extra.rate_limiter import RateLimiter\n",
    "from datetime import date, timedelta\n",
    "from shared_code import utils\n",
    "\n",
    "pd.set_option('display.max_rows', None)\n",
    "pd.set_option('display.max_columns', None)"
   ]
  },
  {
   "cell_type": "markdown",
   "metadata": {},
   "source": [
    "# Initialize Storage Account"
   ]
  },
  {
   "cell_type": "code",
   "execution_count": null,
   "metadata": {},
   "outputs": [],
   "source": [
    "azure_utils = utils.AzureUtils()\n",
    "secret_client = azure_utils.initialize_key_vault()\n",
    "\n",
    "sa_secret = azure_utils.get_key_vault_secret(secret_client, 'sa-booli')\n",
    "sa_name = azure_utils.get_key_vault_secret(secret_client, 'sa-name')\n",
    "storage_account = azure_utils.initialize_storage_account_ad(sa_secret.value, sa_name.value)"
   ]
  },
  {
   "cell_type": "markdown",
   "metadata": {},
   "source": [
    "# Scraping & Storing Data"
   ]
  },
  {
   "cell_type": "code",
   "execution_count": null,
   "metadata": {},
   "outputs": [],
   "source": [
    "object_type = \"Lägenhet\"\n",
    "minSoldDate = \"2022-01-01\"\n",
    "maxSoldDate = \"2022-12-31\"\n",
    "rooms = \"\"\n",
    "area_id = 143\n",
    "\n",
    "booli_utils = utils.Booli()\n",
    "\n",
    "data = booli_utils.run_query_sold(object_type, minSoldDate, maxSoldDate, rooms, area_id, 1)\n",
    "total_number_of_pages = data[\"data\"][\"search\"][\"pages\"]\n",
    "total_number_of_objects = data[\"data\"][\"search\"][\"totalCount\"]\n",
    "total_number_of_pages\n",
    "\n",
    "res = []\n",
    "for page in range(1, total_number_of_pages + 1):\n",
    "    print(f'Scraping page: {page} / {total_number_of_pages}')\n",
    "    data = booli_utils.run_query_sold(object_type, minSoldDate, maxSoldDate, rooms, area_id, page)\n",
    "    \n",
    "    for object in data[\"data\"][\"search\"][\"result\"]:\n",
    "        res.append(object)\n",
    "    \n",
    "    print(f\"Total number of objects stored {len(res)} / {total_number_of_objects}\")\n",
    "    print(\"\")\n",
    "    print(\"--------------------------------------------\")\n",
    "    print(\"\")\n",
    "    \n",
    "df = pd.json_normalize(res)\n",
    "\n",
    "azure_utils.upload_csv_to_datalake(df, \"raw/sold\", f\"Sold_{object_type}_{rooms}_{area_id}_{minSoldDate}_{maxSoldDate}.csv\")"
   ]
  }
 ],
 "metadata": {
  "kernelspec": {
   "display_name": "Python 3.10.4 ('.venv': venv)",
   "language": "python",
   "name": "python3"
  },
  "language_info": {
   "name": "python",
   "version": "3.10.4"
  },
  "orig_nbformat": 4,
  "vscode": {
   "interpreter": {
    "hash": "1feb5dbee2d581560a32fcc85b4893d1615e024f00ed50a39fb110e2dc550259"
   }
  }
 },
 "nbformat": 4,
 "nbformat_minor": 2
}
