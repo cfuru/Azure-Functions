{
 "cells": [
  {
   "cell_type": "markdown",
   "metadata": {},
   "source": [
    "# Import Libraries"
   ]
  },
  {
   "cell_type": "code",
   "execution_count": 1,
   "metadata": {},
   "outputs": [],
   "source": [
    "import datetime\n",
    "import logging\n",
    "import time\n",
    "import azure.functions as func\n",
    "import pandas as pd\n",
    "\n",
    "from datetime import date, timedelta\n",
    "from shared_code import utils\n",
    "\n",
    "pd.set_option('display.max_rows', None)\n",
    "pd.set_option('display.max_columns', None)"
   ]
  },
  {
   "cell_type": "markdown",
   "metadata": {},
   "source": [
    "# Initialize Storage Account"
   ]
  },
  {
   "cell_type": "code",
   "execution_count": 2,
   "metadata": {},
   "outputs": [],
   "source": [
    "azure_utils = utils.AzureUtils()\n",
    "secret_client = azure_utils.initialize_key_vault()\n",
    "\n",
    "sa_secret = azure_utils.get_key_vault_secret(secret_client, 'sa-booli')\n",
    "sa_name = azure_utils.get_key_vault_secret(secret_client, 'sa-name')\n",
    "storage_account = azure_utils.initialize_storage_account_ad(sa_secret.value, sa_name.value)"
   ]
  },
  {
   "cell_type": "markdown",
   "metadata": {},
   "source": [
    "# Scraping & Storing Data"
   ]
  },
  {
   "cell_type": "code",
   "execution_count": null,
   "metadata": {},
   "outputs": [],
   "source": [
    "object_type = \"Lägenhet\"\n",
    "minSoldDate = \"2012-01-01\"\n",
    "maxSoldDate = \"2012-12-31\"\n",
    "rooms = \"\"\n",
    "area_id = 143\n",
    "\n",
    "booli_utils = utils.Booli()\n",
    "\n",
    "data = booli_utils.run_query_sold(object_type, minSoldDate, maxSoldDate, rooms, area_id, 1)\n",
    "total_number_of_pages = data[\"data\"][\"search\"][\"pages\"]\n",
    "total_number_of_objects = data[\"data\"][\"search\"][\"totalCount\"]\n",
    "total_number_of_pages\n",
    "\n",
    "res = []\n",
    "for page in range(1, total_number_of_pages + 1):\n",
    "    print(f'Scraping page: {page} / {total_number_of_pages}')\n",
    "    data = booli_utils.run_query_sold(object_type, minSoldDate, maxSoldDate, rooms, area_id, page)\n",
    "    \n",
    "    for object in data[\"data\"][\"search\"][\"result\"]:\n",
    "        res.append(object)\n",
    "    \n",
    "    print(f\"Total number of objects stored {len(res)} / {total_number_of_objects}\")\n",
    "    print(\"\")\n",
    "    print(\"--------------------------------------------\")\n",
    "    print(\"\")\n",
    "    \n",
    "df = pd.json_normalize(res)\n",
    "\n",
    "azure_utils.upload_csv_to_datalake(df, \"raw/sold\", f\"Sold_{object_type}_{rooms}_{area_id}_{minSoldDate}_{maxSoldDate}.csv\")"
   ]
  },
  {
   "cell_type": "markdown",
   "metadata": {},
   "source": [
    "# Data Cleaning"
   ]
  },
  {
   "cell_type": "code",
   "execution_count": 4,
   "metadata": {},
   "outputs": [
    {
     "ename": "HttpResponseError",
     "evalue": "The requested URI does not represent any resource on the server.\nRequestId:4432306b-d01e-0046-0904-fad6d6000000\nTime:2022-11-16T21:44:48.8094249Z\nErrorCode:InvalidUri\nContent: <?xml version=\"1.0\" encoding=\"utf-8\"?>\n<Error><Code>InvalidUri</Code><Message>The requested URI does not represent any resource on the server.\nRequestId:4432306b-d01e-0046-0904-fad6d6000000\nTime:2022-11-16T21:44:48.8094249Z</Message></Error>",
     "output_type": "error",
     "traceback": [
      "\u001b[1;31m---------------------------------------------------------------------------\u001b[0m",
      "\u001b[1;31mHttpResponseError\u001b[0m                         Traceback (most recent call last)",
      "Cell \u001b[1;32mIn [4], line 8\u001b[0m\n\u001b[0;32m      4\u001b[0m columns_to_drop \u001b[39m=\u001b[39m [\u001b[39m\"\u001b[39m\u001b[39mfloor\u001b[39m\u001b[39m\"\u001b[39m, \u001b[39m\"\u001b[39m\u001b[39msoldPriceAbsoluteDiff\u001b[39m\u001b[39m\"\u001b[39m, \u001b[39m\"\u001b[39m\u001b[39msoldPricePercentageDiff\u001b[39m\u001b[39m\"\u001b[39m, \u001b[39m\"\u001b[39m\u001b[39mlistPrice\u001b[39m\u001b[39m\"\u001b[39m, \u001b[39m\"\u001b[39m\u001b[39mrooms\u001b[39m\u001b[39m\"\u001b[39m, \u001b[39m\"\u001b[39m\u001b[39msoldSqmPrice\u001b[39m\u001b[39m\"\u001b[39m, \u001b[39m\"\u001b[39m\u001b[39mlivingArea\u001b[39m\u001b[39m\"\u001b[39m, \u001b[39m\"\u001b[39m\u001b[39mUnnamed: 0\u001b[39m\u001b[39m\"\u001b[39m]\n\u001b[0;32m      5\u001b[0m non_numeric_columns \u001b[39m=\u001b[39m [\u001b[39m\"\u001b[39m\u001b[39mstreetAddress\u001b[39m\u001b[39m\"\u001b[39m, \u001b[39m\"\u001b[39m\u001b[39mobjectType\u001b[39m\u001b[39m\"\u001b[39m, \u001b[39m\"\u001b[39m\u001b[39mdescriptiveAreaName\u001b[39m\u001b[39m\"\u001b[39m, \u001b[39m\"\u001b[39m\u001b[39msoldPriceType\u001b[39m\u001b[39m\"\u001b[39m, \u001b[39m\"\u001b[39m\u001b[39msoldDate\u001b[39m\u001b[39m\"\u001b[39m, \u001b[39m\"\u001b[39m\u001b[39murl\u001b[39m\u001b[39m\"\u001b[39m, \u001b[39m\"\u001b[39m\u001b[39m__typename\u001b[39m\u001b[39m\"\u001b[39m]\n\u001b[0;32m      7\u001b[0m df_cleaning \u001b[39m=\u001b[39m (\n\u001b[1;32m----> 8\u001b[0m     azure_utils\u001b[39m.\u001b[39;49mingest_raw_data(\u001b[39m\"\u001b[39;49m\u001b[39mSold/\u001b[39;49m\u001b[39m\"\u001b[39;49m, \u001b[39m\"\u001b[39;49m\u001b[39mSold_\u001b[39;49m\u001b[39m\"\u001b[39;49m)\n\u001b[0;32m      9\u001b[0m     \u001b[39m.\u001b[39mpipe(data_cleaning\u001b[39m.\u001b[39mdrop_dataframe_columns, columns_to_drop)\n\u001b[0;32m     10\u001b[0m     \u001b[39m.\u001b[39mpipe(data_cleaning\u001b[39m.\u001b[39mset_dtype_to_numeric, non_numeric_columns)\n\u001b[0;32m     11\u001b[0m     \u001b[39m.\u001b[39mpipe(data_cleaning\u001b[39m.\u001b[39mchange_timestamp_format, \u001b[39m\"\u001b[39m\u001b[39msoldDate\u001b[39m\u001b[39m\"\u001b[39m)\n\u001b[0;32m     12\u001b[0m )\n\u001b[0;32m     13\u001b[0m df_cleaning\u001b[39m.\u001b[39mhead()\n",
      "File \u001b[1;32mc:\\Users\\chris\\OneDrive\\1. Projects\\Personal Analytics Platform\\AzureFunctions\\func-scrape-prod-001\\shared_code\\utils.py:108\u001b[0m, in \u001b[0;36mAzureUtils.ingest_raw_data\u001b[1;34m(self, directory, blob_name_starts_with)\u001b[0m\n\u001b[0;32m    106\u001b[0m \u001b[39mdef\u001b[39;00m \u001b[39mingest_raw_data\u001b[39m(\u001b[39mself\u001b[39m, directory, blob_name_starts_with):\n\u001b[0;32m    107\u001b[0m     blob_list \u001b[39m=\u001b[39m \u001b[39mself\u001b[39m\u001b[39m.\u001b[39mlist_blobs(\u001b[39mf\u001b[39m\u001b[39m\"\u001b[39m\u001b[39mraw/\u001b[39m\u001b[39m{\u001b[39;00mdirectory\u001b[39m}\u001b[39;00m\u001b[39m\"\u001b[39m, blob_name_starts_with)\n\u001b[1;32m--> 108\u001b[0m     df \u001b[39m=\u001b[39m pd\u001b[39m.\u001b[39mconcat([\u001b[39mself\u001b[39m\u001b[39m.\u001b[39mdownload_csv_blob(\u001b[39mf\u001b[39m\u001b[39m\"\u001b[39m\u001b[39mraw/\u001b[39m\u001b[39m{\u001b[39;00mdirectory\u001b[39m}\u001b[39;00m\u001b[39m\"\u001b[39m, blob\u001b[39m.\u001b[39mname) \u001b[39mfor\u001b[39;00m blob \u001b[39min\u001b[39;00m blob_list], ignore_index \u001b[39m=\u001b[39m \u001b[39mTrue\u001b[39;00m)\n\u001b[0;32m    109\u001b[0m     \u001b[39mreturn\u001b[39;00m df\n",
      "File \u001b[1;32mc:\\Users\\chris\\OneDrive\\1. Projects\\Personal Analytics Platform\\AzureFunctions\\func-scrape-prod-001\\shared_code\\utils.py:108\u001b[0m, in \u001b[0;36m<listcomp>\u001b[1;34m(.0)\u001b[0m\n\u001b[0;32m    106\u001b[0m \u001b[39mdef\u001b[39;00m \u001b[39mingest_raw_data\u001b[39m(\u001b[39mself\u001b[39m, directory, blob_name_starts_with):\n\u001b[0;32m    107\u001b[0m     blob_list \u001b[39m=\u001b[39m \u001b[39mself\u001b[39m\u001b[39m.\u001b[39mlist_blobs(\u001b[39mf\u001b[39m\u001b[39m\"\u001b[39m\u001b[39mraw/\u001b[39m\u001b[39m{\u001b[39;00mdirectory\u001b[39m}\u001b[39;00m\u001b[39m\"\u001b[39m, blob_name_starts_with)\n\u001b[1;32m--> 108\u001b[0m     df \u001b[39m=\u001b[39m pd\u001b[39m.\u001b[39mconcat([\u001b[39mself\u001b[39m\u001b[39m.\u001b[39mdownload_csv_blob(\u001b[39mf\u001b[39m\u001b[39m\"\u001b[39m\u001b[39mraw/\u001b[39m\u001b[39m{\u001b[39;00mdirectory\u001b[39m}\u001b[39;00m\u001b[39m\"\u001b[39m, blob\u001b[39m.\u001b[39mname) \u001b[39mfor\u001b[39;00m blob \u001b[39min\u001b[39;00m blob_list], ignore_index \u001b[39m=\u001b[39m \u001b[39mTrue\u001b[39;00m)\n\u001b[0;32m    109\u001b[0m     \u001b[39mreturn\u001b[39;00m df\n",
      "File \u001b[1;32mc:\\Users\\chris\\OneDrive\\1. Projects\\Personal Analytics Platform\\AzureFunctions\\func-scrape-prod-001\\.venv\\lib\\site-packages\\azure\\core\\paging.py:128\u001b[0m, in \u001b[0;36mItemPaged.__next__\u001b[1;34m(self)\u001b[0m\n\u001b[0;32m    126\u001b[0m \u001b[39mif\u001b[39;00m \u001b[39mself\u001b[39m\u001b[39m.\u001b[39m_page_iterator \u001b[39mis\u001b[39;00m \u001b[39mNone\u001b[39;00m:\n\u001b[0;32m    127\u001b[0m     \u001b[39mself\u001b[39m\u001b[39m.\u001b[39m_page_iterator \u001b[39m=\u001b[39m itertools\u001b[39m.\u001b[39mchain\u001b[39m.\u001b[39mfrom_iterable(\u001b[39mself\u001b[39m\u001b[39m.\u001b[39mby_page())\n\u001b[1;32m--> 128\u001b[0m \u001b[39mreturn\u001b[39;00m \u001b[39mnext\u001b[39;49m(\u001b[39mself\u001b[39;49m\u001b[39m.\u001b[39;49m_page_iterator)\n",
      "File \u001b[1;32mc:\\Users\\chris\\OneDrive\\1. Projects\\Personal Analytics Platform\\AzureFunctions\\func-scrape-prod-001\\.venv\\lib\\site-packages\\azure\\core\\paging.py:76\u001b[0m, in \u001b[0;36mPageIterator.__next__\u001b[1;34m(self)\u001b[0m\n\u001b[0;32m     74\u001b[0m     \u001b[39mraise\u001b[39;00m \u001b[39mStopIteration\u001b[39;00m(\u001b[39m\"\u001b[39m\u001b[39mEnd of paging\u001b[39m\u001b[39m\"\u001b[39m)\n\u001b[0;32m     75\u001b[0m \u001b[39mtry\u001b[39;00m:\n\u001b[1;32m---> 76\u001b[0m     \u001b[39mself\u001b[39m\u001b[39m.\u001b[39m_response \u001b[39m=\u001b[39m \u001b[39mself\u001b[39;49m\u001b[39m.\u001b[39;49m_get_next(\u001b[39mself\u001b[39;49m\u001b[39m.\u001b[39;49mcontinuation_token)\n\u001b[0;32m     77\u001b[0m \u001b[39mexcept\u001b[39;00m AzureError \u001b[39mas\u001b[39;00m error:\n\u001b[0;32m     78\u001b[0m     \u001b[39mif\u001b[39;00m \u001b[39mnot\u001b[39;00m error\u001b[39m.\u001b[39mcontinuation_token:\n",
      "File \u001b[1;32mc:\\Users\\chris\\OneDrive\\1. Projects\\Personal Analytics Platform\\AzureFunctions\\func-scrape-prod-001\\.venv\\lib\\site-packages\\azure\\storage\\blob\\_list_blobs_helper.py:100\u001b[0m, in \u001b[0;36mBlobPropertiesPaged._get_next_cb\u001b[1;34m(self, continuation_token)\u001b[0m\n\u001b[0;32m     93\u001b[0m     \u001b[39mreturn\u001b[39;00m \u001b[39mself\u001b[39m\u001b[39m.\u001b[39m_command(\n\u001b[0;32m     94\u001b[0m         prefix\u001b[39m=\u001b[39m\u001b[39mself\u001b[39m\u001b[39m.\u001b[39mprefix,\n\u001b[0;32m     95\u001b[0m         marker\u001b[39m=\u001b[39mcontinuation_token \u001b[39mor\u001b[39;00m \u001b[39mNone\u001b[39;00m,\n\u001b[0;32m     96\u001b[0m         maxresults\u001b[39m=\u001b[39m\u001b[39mself\u001b[39m\u001b[39m.\u001b[39mresults_per_page,\n\u001b[0;32m     97\u001b[0m         \u001b[39mcls\u001b[39m\u001b[39m=\u001b[39mreturn_context_and_deserialized,\n\u001b[0;32m     98\u001b[0m         use_location\u001b[39m=\u001b[39m\u001b[39mself\u001b[39m\u001b[39m.\u001b[39mlocation_mode)\n\u001b[0;32m     99\u001b[0m \u001b[39mexcept\u001b[39;00m HttpResponseError \u001b[39mas\u001b[39;00m error:\n\u001b[1;32m--> 100\u001b[0m     process_storage_error(error)\n",
      "File \u001b[1;32mc:\\Users\\chris\\OneDrive\\1. Projects\\Personal Analytics Platform\\AzureFunctions\\func-scrape-prod-001\\.venv\\lib\\site-packages\\azure\\storage\\blob\\_shared\\response_handlers.py:185\u001b[0m, in \u001b[0;36mprocess_storage_error\u001b[1;34m(storage_error)\u001b[0m\n\u001b[0;32m    182\u001b[0m error\u001b[39m.\u001b[39margs \u001b[39m=\u001b[39m (error\u001b[39m.\u001b[39mmessage,)\n\u001b[0;32m    183\u001b[0m \u001b[39mtry\u001b[39;00m:\n\u001b[0;32m    184\u001b[0m     \u001b[39m# `from None` prevents us from double printing the exception (suppresses generated layer error context)\u001b[39;00m\n\u001b[1;32m--> 185\u001b[0m     exec(\u001b[39m\"\u001b[39;49m\u001b[39mraise error from None\u001b[39;49m\u001b[39m\"\u001b[39;49m)   \u001b[39m# pylint: disable=exec-used # nosec\u001b[39;00m\n\u001b[0;32m    186\u001b[0m \u001b[39mexcept\u001b[39;00m \u001b[39mSyntaxError\u001b[39;00m:\n\u001b[0;32m    187\u001b[0m     \u001b[39mraise\u001b[39;00m error\n",
      "File \u001b[1;32m<string>:1\u001b[0m\n",
      "\u001b[1;31mHttpResponseError\u001b[0m: The requested URI does not represent any resource on the server.\nRequestId:4432306b-d01e-0046-0904-fad6d6000000\nTime:2022-11-16T21:44:48.8094249Z\nErrorCode:InvalidUri\nContent: <?xml version=\"1.0\" encoding=\"utf-8\"?>\n<Error><Code>InvalidUri</Code><Message>The requested URI does not represent any resource on the server.\nRequestId:4432306b-d01e-0046-0904-fad6d6000000\nTime:2022-11-16T21:44:48.8094249Z</Message></Error>"
     ]
    }
   ],
   "source": [
    "utils_DataFactory = utils.DataFactory()\n",
    "data_cleaning = utils_DataFactory.get_formatter(\"Cleaning\")\n",
    "\n",
    "columns_to_drop = [\"floor\", \"soldPriceAbsoluteDiff\", \"soldPricePercentageDiff\", \"listPrice\", \"rooms\", \"soldSqmPrice\", \"livingArea\", \"Unnamed: 0\"]\n",
    "non_numeric_columns = [\"streetAddress\", \"objectType\", \"descriptiveAreaName\", \"soldPriceType\", \"soldDate\", \"url\", \"__typename\"]\n",
    "\n",
    "df_cleaning = (\n",
    "    azure_utils.ingest_raw_data(\"Sold/\", \"Sold_\")\n",
    "    .pipe(data_cleaning.drop_dataframe_columns, columns_to_drop)\n",
    "    .pipe(data_cleaning.set_dtype_to_numeric, non_numeric_columns)\n",
    "    .pipe(data_cleaning.change_timestamp_format, \"soldDate\")\n",
    ")\n",
    "df_cleaning.head()"
   ]
  },
  {
   "cell_type": "code",
   "execution_count": null,
   "metadata": {},
   "outputs": [],
   "source": [
    "# pd.DataFrame(df_cleaning.descriptiveAreaName.unique())"
   ]
  },
  {
   "cell_type": "markdown",
   "metadata": {},
   "source": [
    "## Uploading Cleaned Data to Data Lake"
   ]
  },
  {
   "cell_type": "code",
   "execution_count": null,
   "metadata": {},
   "outputs": [],
   "source": [
    "parquet_file = df_cleaning.to_parquet(index = False)\n",
    "\n",
    "azure_utils.upload_blob(parquet_file, f\"silver/sold_clean\", f\"Sold_{date.today()}.parquet\")   "
   ]
  },
  {
   "cell_type": "markdown",
   "metadata": {},
   "source": [
    "# Feature Engineering"
   ]
  },
  {
   "cell_type": "code",
   "execution_count": null,
   "metadata": {},
   "outputs": [],
   "source": [
    "data_cleaning.get_data_types(df_cleaning)"
   ]
  },
  {
   "cell_type": "code",
   "execution_count": null,
   "metadata": {},
   "outputs": [],
   "source": [
    "data_cleaning.get_missing_values_percent(df_raw)"
   ]
  },
  {
   "cell_type": "code",
   "execution_count": null,
   "metadata": {},
   "outputs": [],
   "source": []
  },
  {
   "cell_type": "code",
   "execution_count": null,
   "metadata": {},
   "outputs": [],
   "source": []
  }
 ],
 "metadata": {
  "kernelspec": {
   "display_name": "Python 3.8.3 ('.venv': venv)",
   "language": "python",
   "name": "python3"
  },
  "language_info": {
   "codemirror_mode": {
    "name": "ipython",
    "version": 3
   },
   "file_extension": ".py",
   "mimetype": "text/x-python",
   "name": "python",
   "nbconvert_exporter": "python",
   "pygments_lexer": "ipython3",
   "version": "3.10.4"
  },
  "orig_nbformat": 4,
  "vscode": {
   "interpreter": {
    "hash": "5ef06731164e85c8bef0eed6dc479de807b6f493d8ba978f891f10250a82e526"
   }
  }
 },
 "nbformat": 4,
 "nbformat_minor": 2
}
